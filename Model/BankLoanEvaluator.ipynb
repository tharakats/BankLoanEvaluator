{
  "nbformat": 4,
  "nbformat_minor": 0,
  "metadata": {
    "colab": {
      "name": "BankLoanEvaluator.ipynb",
      "provenance": [],
      "collapsed_sections": [],
      "authorship_tag": "ABX9TyMbg19GX9EMpYJpsyYeUWd6",
      "include_colab_link": true
    },
    "kernelspec": {
      "name": "python3",
      "display_name": "Python 3"
    }
  },
  "cells": [
    {
      "cell_type": "markdown",
      "metadata": {
        "id": "view-in-github",
        "colab_type": "text"
      },
      "source": [
        "<a href=\"https://colab.research.google.com/github/tharakats/BankLoanEvaluator/blob/main/Model/BankLoanEvaluator.ipynb\" target=\"_parent\"><img src=\"https://colab.research.google.com/assets/colab-badge.svg\" alt=\"Open In Colab\"/></a>"
      ]
    },
    {
      "cell_type": "code",
      "metadata": {
        "id": "sFvZ9iHjxffn"
      },
      "source": [
        "\"\"\"\n",
        "Copyright 2020 Tharaka Sampath\n",
        "\n",
        "Licensed under the Apache License, Version 2.0 (the \"License\");\n",
        "you may not use this file except in compliance with the License.\n",
        "You may obtain a copy of the License at\n",
        "\n",
        "    http://www.apache.org/licenses/LICENSE-2.0\n",
        "\n",
        "Unless required by applicable law or agreed to in writing, software\n",
        "distributed under the License is distributed on an \"AS IS\" BASIS,\n",
        "WITHOUT WARRANTIES OR CONDITIONS OF ANY KIND, either express or implied.\n",
        "See the License for the specific language governing permissions and\n",
        "limitations under the License.\n",
        "\"\"\""
      ],
      "execution_count": null,
      "outputs": []
    },
    {
      "cell_type": "code",
      "metadata": {
        "id": "lqbNaMx31Fop"
      },
      "source": [
        "import numpy as np\n",
        "import pandas as pd"
      ],
      "execution_count": 2,
      "outputs": []
    },
    {
      "cell_type": "code",
      "metadata": {
        "id": "BnT0XWfG1GIS",
        "outputId": "a85d2f21-f0e8-47c8-e4d9-cfddb174e9a7",
        "colab": {
          "base_uri": "https://localhost:8080/",
          "height": 195
        }
      },
      "source": [
        "dataset = pd.read_csv('https://docs.google.com/spreadsheets/d/e/2PACX-1vT3dBWyWxVw2rMsVnNaG36DWb33ecoq1Jd9i99ogk7S9mKDirDdg359NvLBmi5IlqLU9XFH4GLx6n_d/pub?gid=1809176138&single=true&output=csv')\n",
        "dataset.head()"
      ],
      "execution_count": 3,
      "outputs": [
        {
          "output_type": "execute_result",
          "data": {
            "text/html": [
              "<div>\n",
              "<style scoped>\n",
              "    .dataframe tbody tr th:only-of-type {\n",
              "        vertical-align: middle;\n",
              "    }\n",
              "\n",
              "    .dataframe tbody tr th {\n",
              "        vertical-align: top;\n",
              "    }\n",
              "\n",
              "    .dataframe thead th {\n",
              "        text-align: right;\n",
              "    }\n",
              "</style>\n",
              "<table border=\"1\" class=\"dataframe\">\n",
              "  <thead>\n",
              "    <tr style=\"text-align: right;\">\n",
              "      <th></th>\n",
              "      <th>RowNumber</th>\n",
              "      <th>CustomerId</th>\n",
              "      <th>Surname</th>\n",
              "      <th>CreditScore</th>\n",
              "      <th>Geography</th>\n",
              "      <th>Gender</th>\n",
              "      <th>Age</th>\n",
              "      <th>Tenure</th>\n",
              "      <th>Balance</th>\n",
              "      <th>NumOfProducts</th>\n",
              "      <th>HasCrCard</th>\n",
              "      <th>IsActiveMember</th>\n",
              "      <th>EstimatedSalary</th>\n",
              "      <th>Exited</th>\n",
              "    </tr>\n",
              "  </thead>\n",
              "  <tbody>\n",
              "    <tr>\n",
              "      <th>0</th>\n",
              "      <td>1</td>\n",
              "      <td>15634602</td>\n",
              "      <td>Hargrave</td>\n",
              "      <td>619</td>\n",
              "      <td>France</td>\n",
              "      <td>Female</td>\n",
              "      <td>42</td>\n",
              "      <td>2</td>\n",
              "      <td>0.00</td>\n",
              "      <td>1</td>\n",
              "      <td>1</td>\n",
              "      <td>1</td>\n",
              "      <td>101348.88</td>\n",
              "      <td>1</td>\n",
              "    </tr>\n",
              "    <tr>\n",
              "      <th>1</th>\n",
              "      <td>2</td>\n",
              "      <td>15647311</td>\n",
              "      <td>Hill</td>\n",
              "      <td>608</td>\n",
              "      <td>Spain</td>\n",
              "      <td>Female</td>\n",
              "      <td>41</td>\n",
              "      <td>1</td>\n",
              "      <td>83807.86</td>\n",
              "      <td>1</td>\n",
              "      <td>0</td>\n",
              "      <td>1</td>\n",
              "      <td>112542.58</td>\n",
              "      <td>0</td>\n",
              "    </tr>\n",
              "    <tr>\n",
              "      <th>2</th>\n",
              "      <td>3</td>\n",
              "      <td>15619304</td>\n",
              "      <td>Onio</td>\n",
              "      <td>502</td>\n",
              "      <td>France</td>\n",
              "      <td>Female</td>\n",
              "      <td>42</td>\n",
              "      <td>8</td>\n",
              "      <td>159660.80</td>\n",
              "      <td>3</td>\n",
              "      <td>1</td>\n",
              "      <td>0</td>\n",
              "      <td>113931.57</td>\n",
              "      <td>1</td>\n",
              "    </tr>\n",
              "    <tr>\n",
              "      <th>3</th>\n",
              "      <td>4</td>\n",
              "      <td>15701354</td>\n",
              "      <td>Boni</td>\n",
              "      <td>699</td>\n",
              "      <td>France</td>\n",
              "      <td>Female</td>\n",
              "      <td>39</td>\n",
              "      <td>1</td>\n",
              "      <td>0.00</td>\n",
              "      <td>2</td>\n",
              "      <td>0</td>\n",
              "      <td>0</td>\n",
              "      <td>93826.63</td>\n",
              "      <td>0</td>\n",
              "    </tr>\n",
              "    <tr>\n",
              "      <th>4</th>\n",
              "      <td>5</td>\n",
              "      <td>15737888</td>\n",
              "      <td>Mitchell</td>\n",
              "      <td>850</td>\n",
              "      <td>Spain</td>\n",
              "      <td>Female</td>\n",
              "      <td>43</td>\n",
              "      <td>2</td>\n",
              "      <td>125510.82</td>\n",
              "      <td>1</td>\n",
              "      <td>1</td>\n",
              "      <td>1</td>\n",
              "      <td>79084.10</td>\n",
              "      <td>0</td>\n",
              "    </tr>\n",
              "  </tbody>\n",
              "</table>\n",
              "</div>"
            ],
            "text/plain": [
              "   RowNumber  CustomerId   Surname  ...  IsActiveMember EstimatedSalary Exited\n",
              "0          1    15634602  Hargrave  ...               1       101348.88      1\n",
              "1          2    15647311      Hill  ...               1       112542.58      0\n",
              "2          3    15619304      Onio  ...               0       113931.57      1\n",
              "3          4    15701354      Boni  ...               0        93826.63      0\n",
              "4          5    15737888  Mitchell  ...               1        79084.10      0\n",
              "\n",
              "[5 rows x 14 columns]"
            ]
          },
          "metadata": {
            "tags": []
          },
          "execution_count": 3
        }
      ]
    },
    {
      "cell_type": "code",
      "metadata": {
        "id": "pfBPQDo02G9c"
      },
      "source": [
        "X=dataset.iloc[:,3:-1].values\n",
        "Y=dataset.iloc[:,-1].values"
      ],
      "execution_count": 4,
      "outputs": []
    },
    {
      "cell_type": "code",
      "metadata": {
        "id": "lU7XTpmc1NwY"
      },
      "source": [
        "from sklearn.impute import SimpleImputer\n",
        "imputer=SimpleImputer(missing_values=np.nan,strategy='mean')\n",
        "X[:,4:12]=imputer.fit_transform(X[:,4:12])"
      ],
      "execution_count": 5,
      "outputs": []
    },
    {
      "cell_type": "code",
      "metadata": {
        "id": "IrAA-RXZ7ATl"
      },
      "source": [
        "from sklearn.model_selection import train_test_split\n",
        "X_train,X_test,Y_train,Y_test=train_test_split(X,Y,test_size=0.2,random_state=1)"
      ],
      "execution_count": 6,
      "outputs": []
    },
    {
      "cell_type": "code",
      "metadata": {
        "id": "ymPVi9E5zjw0",
        "outputId": "d9656559-d159-4360-921f-caf25c610f72",
        "colab": {
          "base_uri": "https://localhost:8080/"
        }
      },
      "source": [
        "X_train"
      ],
      "execution_count": 7,
      "outputs": [
        {
          "output_type": "execute_result",
          "data": {
            "text/plain": [
              "array([[628, 'Germany', 'Male', ..., 0.0, 1.0, 124749.08],\n",
              "       [626, 'France', 'Female', ..., 0.0, 0.0, 41104.82],\n",
              "       [612, 'Germany', 'Female', ..., 1.0, 1.0, 45750.21],\n",
              "       ...,\n",
              "       [672, 'France', 'Female', ..., 1.0, 1.0, 92027.69],\n",
              "       [663, 'France', 'Female', ..., 1.0, 1.0, 101168.9],\n",
              "       [763, 'Germany', 'Male', ..., 1.0, 0.0, 33462.94]], dtype=object)"
            ]
          },
          "metadata": {
            "tags": []
          },
          "execution_count": 7
        }
      ]
    },
    {
      "cell_type": "code",
      "metadata": {
        "id": "wpwnseKw7cJd"
      },
      "source": [
        "from sklearn.preprocessing import LabelEncoder, OneHotEncoder,StandardScaler\n",
        "gender=LabelEncoder()\n",
        "gender_x=gender.fit(X_train[:,2])\n",
        "\n",
        "X_train[:,2]=gender_x.transform(X_train[:,2])\n",
        "X_test[:,2]=gender_x.transform(X_test[:,2])\n",
        "\n",
        "country=LabelEncoder()\n",
        "country_x=country.fit(X_train[:,1])\n",
        "X_train[:,1]=country_x.transform(X_train[:,1])\n",
        "X_test[:,1]=country_x.transform(X_test[:,1])"
      ],
      "execution_count": 8,
      "outputs": []
    },
    {
      "cell_type": "code",
      "metadata": {
        "id": "8wbDBdE78tS0",
        "outputId": "5028213b-826a-442a-ce7c-63a8e000f827",
        "colab": {
          "base_uri": "https://localhost:8080/"
        }
      },
      "source": [
        "X_train"
      ],
      "execution_count": 9,
      "outputs": [
        {
          "output_type": "execute_result",
          "data": {
            "text/plain": [
              "array([[628, 1, 1, ..., 0.0, 1.0, 124749.08],\n",
              "       [626, 0, 0, ..., 0.0, 0.0, 41104.82],\n",
              "       [612, 1, 0, ..., 1.0, 1.0, 45750.21],\n",
              "       ...,\n",
              "       [672, 0, 0, ..., 1.0, 1.0, 92027.69],\n",
              "       [663, 0, 0, ..., 1.0, 1.0, 101168.9],\n",
              "       [763, 1, 1, ..., 1.0, 0.0, 33462.94]], dtype=object)"
            ]
          },
          "metadata": {
            "tags": []
          },
          "execution_count": 9
        }
      ]
    },
    {
      "cell_type": "code",
      "metadata": {
        "id": "1EifxJda7fGp"
      },
      "source": [
        "country_onehot=OneHotEncoder()\n",
        "country_onehot_x=country_onehot.fit(X_train[:,1].reshape(-1,1))\n",
        "country_onehot_x_train=country_onehot_x.transform(X_train[:,1].reshape(-1,1)).toarray()\n",
        "country_onehot_x_test=country_onehot_x.transform(X_test[:,1].reshape(-1,1)).toarray()\n",
        "\n",
        "X_train=np.concatenate((country_onehot_x_train,X_train),axis=1)\n",
        "X_train=np.delete(X_train,4,axis=1)\n",
        "X_test=np.concatenate((country_onehot_x_test,X_test),axis=1)\n",
        "X_test=np.delete(X_test,4,axis=1)\n"
      ],
      "execution_count": 10,
      "outputs": []
    },
    {
      "cell_type": "code",
      "metadata": {
        "id": "zCDRHnhpyVl4",
        "outputId": "37d4014c-4685-46e2-c11b-120c4bb65006",
        "colab": {
          "base_uri": "https://localhost:8080/"
        }
      },
      "source": [
        "X_train"
      ],
      "execution_count": 11,
      "outputs": [
        {
          "output_type": "execute_result",
          "data": {
            "text/plain": [
              "array([[0.0, 1.0, 0.0, ..., 0.0, 1.0, 124749.08],\n",
              "       [1.0, 0.0, 0.0, ..., 0.0, 0.0, 41104.82],\n",
              "       [0.0, 1.0, 0.0, ..., 1.0, 1.0, 45750.21],\n",
              "       ...,\n",
              "       [1.0, 0.0, 0.0, ..., 1.0, 1.0, 92027.69],\n",
              "       [1.0, 0.0, 0.0, ..., 1.0, 1.0, 101168.9],\n",
              "       [0.0, 1.0, 0.0, ..., 1.0, 0.0, 33462.94]], dtype=object)"
            ]
          },
          "metadata": {
            "tags": []
          },
          "execution_count": 11
        }
      ]
    },
    {
      "cell_type": "code",
      "metadata": {
        "id": "EbNJQEzV0oHw"
      },
      "source": [
        "X_sc=StandardScaler()\n",
        "X_sc=X_sc.fit(X_train)\n",
        "X_train=X_sc.transform(X_train)\n",
        "X_test=X_sc.transform(X_test)"
      ],
      "execution_count": 12,
      "outputs": []
    },
    {
      "cell_type": "code",
      "metadata": {
        "id": "lFtsgesw1JjQ"
      },
      "source": [
        "import tensorflow as tf\n",
        "import keras\n",
        "from keras.models import Sequential\n",
        "from keras.layers import Dense\n",
        "\n",
        "classifier= keras.models.Sequential()\n",
        "classifier.add(Dense(units=7,activation='relu',input_shape=(12,)))\n",
        "classifier.add(Dense(units=7,activation='relu'))\n",
        "classifier.add(Dense(units=1,activation='sigmoid'))\n",
        "\n",
        "classifier.compile(optimizer='adam',loss='binary_crossentropy',metrics=['accuracy'])"
      ],
      "execution_count": 13,
      "outputs": []
    },
    {
      "cell_type": "code",
      "metadata": {
        "id": "o7PwC3Co1VUf",
        "outputId": "aede1aa0-caa8-4a3c-92d7-51338f0d83e4",
        "colab": {
          "base_uri": "https://localhost:8080/"
        }
      },
      "source": [
        "classifier.fit(X_train,Y_train,batch_size=64,epochs=50,verbose=1)"
      ],
      "execution_count": 14,
      "outputs": [
        {
          "output_type": "stream",
          "text": [
            "Epoch 1/50\n",
            "125/125 [==============================] - 0s 1ms/step - loss: 0.5819 - accuracy: 0.7479\n",
            "Epoch 2/50\n",
            "125/125 [==============================] - 0s 1ms/step - loss: 0.4880 - accuracy: 0.7972\n",
            "Epoch 3/50\n",
            "125/125 [==============================] - 0s 1ms/step - loss: 0.4613 - accuracy: 0.7972\n",
            "Epoch 4/50\n",
            "125/125 [==============================] - 0s 1ms/step - loss: 0.4475 - accuracy: 0.7972\n",
            "Epoch 5/50\n",
            "125/125 [==============================] - 0s 1ms/step - loss: 0.4386 - accuracy: 0.7972\n",
            "Epoch 6/50\n",
            "125/125 [==============================] - 0s 1ms/step - loss: 0.4328 - accuracy: 0.7972\n",
            "Epoch 7/50\n",
            "125/125 [==============================] - 0s 1ms/step - loss: 0.4282 - accuracy: 0.7972\n",
            "Epoch 8/50\n",
            "125/125 [==============================] - 0s 1ms/step - loss: 0.4253 - accuracy: 0.7972\n",
            "Epoch 9/50\n",
            "125/125 [==============================] - 0s 1ms/step - loss: 0.4233 - accuracy: 0.8136\n",
            "Epoch 10/50\n",
            "125/125 [==============================] - 0s 1ms/step - loss: 0.4215 - accuracy: 0.8181\n",
            "Epoch 11/50\n",
            "125/125 [==============================] - 0s 1ms/step - loss: 0.4203 - accuracy: 0.8190\n",
            "Epoch 12/50\n",
            "125/125 [==============================] - 0s 1ms/step - loss: 0.4192 - accuracy: 0.8213\n",
            "Epoch 13/50\n",
            "125/125 [==============================] - 0s 1ms/step - loss: 0.4184 - accuracy: 0.8216\n",
            "Epoch 14/50\n",
            "125/125 [==============================] - 0s 1ms/step - loss: 0.4172 - accuracy: 0.8211\n",
            "Epoch 15/50\n",
            "125/125 [==============================] - 0s 1ms/step - loss: 0.4161 - accuracy: 0.8217\n",
            "Epoch 16/50\n",
            "125/125 [==============================] - 0s 1ms/step - loss: 0.4151 - accuracy: 0.8231\n",
            "Epoch 17/50\n",
            "125/125 [==============================] - 0s 1ms/step - loss: 0.4139 - accuracy: 0.8240\n",
            "Epoch 18/50\n",
            "125/125 [==============================] - 0s 1ms/step - loss: 0.4122 - accuracy: 0.8251\n",
            "Epoch 19/50\n",
            "125/125 [==============================] - 0s 1ms/step - loss: 0.4101 - accuracy: 0.8261\n",
            "Epoch 20/50\n",
            "125/125 [==============================] - 0s 1ms/step - loss: 0.4069 - accuracy: 0.8284\n",
            "Epoch 21/50\n",
            "125/125 [==============================] - 0s 1ms/step - loss: 0.4021 - accuracy: 0.8315\n",
            "Epoch 22/50\n",
            "125/125 [==============================] - 0s 1ms/step - loss: 0.3966 - accuracy: 0.8344\n",
            "Epoch 23/50\n",
            "125/125 [==============================] - 0s 1ms/step - loss: 0.3908 - accuracy: 0.8391\n",
            "Epoch 24/50\n",
            "125/125 [==============================] - 0s 1ms/step - loss: 0.3850 - accuracy: 0.8424\n",
            "Epoch 25/50\n",
            "125/125 [==============================] - 0s 1ms/step - loss: 0.3788 - accuracy: 0.8472\n",
            "Epoch 26/50\n",
            "125/125 [==============================] - 0s 1ms/step - loss: 0.3726 - accuracy: 0.8504\n",
            "Epoch 27/50\n",
            "125/125 [==============================] - 0s 1ms/step - loss: 0.3675 - accuracy: 0.8526\n",
            "Epoch 28/50\n",
            "125/125 [==============================] - 0s 1ms/step - loss: 0.3632 - accuracy: 0.8531\n",
            "Epoch 29/50\n",
            "125/125 [==============================] - 0s 1ms/step - loss: 0.3593 - accuracy: 0.8565\n",
            "Epoch 30/50\n",
            "125/125 [==============================] - 0s 1ms/step - loss: 0.3558 - accuracy: 0.8572\n",
            "Epoch 31/50\n",
            "125/125 [==============================] - 0s 979us/step - loss: 0.3534 - accuracy: 0.8579\n",
            "Epoch 32/50\n",
            "125/125 [==============================] - 0s 1ms/step - loss: 0.3507 - accuracy: 0.8579\n",
            "Epoch 33/50\n",
            "125/125 [==============================] - 0s 1ms/step - loss: 0.3486 - accuracy: 0.8574\n",
            "Epoch 34/50\n",
            "125/125 [==============================] - 0s 1ms/step - loss: 0.3470 - accuracy: 0.8579\n",
            "Epoch 35/50\n",
            "125/125 [==============================] - 0s 1ms/step - loss: 0.3456 - accuracy: 0.8569\n",
            "Epoch 36/50\n",
            "125/125 [==============================] - 0s 1ms/step - loss: 0.3445 - accuracy: 0.8587\n",
            "Epoch 37/50\n",
            "125/125 [==============================] - 0s 1ms/step - loss: 0.3432 - accuracy: 0.8596\n",
            "Epoch 38/50\n",
            "125/125 [==============================] - 0s 1ms/step - loss: 0.3423 - accuracy: 0.8597\n",
            "Epoch 39/50\n",
            "125/125 [==============================] - 0s 1ms/step - loss: 0.3414 - accuracy: 0.8610\n",
            "Epoch 40/50\n",
            "125/125 [==============================] - 0s 1ms/step - loss: 0.3408 - accuracy: 0.8611\n",
            "Epoch 41/50\n",
            "125/125 [==============================] - 0s 1ms/step - loss: 0.3401 - accuracy: 0.8609\n",
            "Epoch 42/50\n",
            "125/125 [==============================] - 0s 1ms/step - loss: 0.3399 - accuracy: 0.8614\n",
            "Epoch 43/50\n",
            "125/125 [==============================] - 0s 1ms/step - loss: 0.3393 - accuracy: 0.8602\n",
            "Epoch 44/50\n",
            "125/125 [==============================] - 0s 1ms/step - loss: 0.3390 - accuracy: 0.8622\n",
            "Epoch 45/50\n",
            "125/125 [==============================] - 0s 1ms/step - loss: 0.3385 - accuracy: 0.8618\n",
            "Epoch 46/50\n",
            "125/125 [==============================] - 0s 1ms/step - loss: 0.3383 - accuracy: 0.8626\n",
            "Epoch 47/50\n",
            "125/125 [==============================] - 0s 1ms/step - loss: 0.3373 - accuracy: 0.8627\n",
            "Epoch 48/50\n",
            "125/125 [==============================] - 0s 1ms/step - loss: 0.3377 - accuracy: 0.8618\n",
            "Epoch 49/50\n",
            "125/125 [==============================] - 0s 1ms/step - loss: 0.3373 - accuracy: 0.8629\n",
            "Epoch 50/50\n",
            "125/125 [==============================] - 0s 1ms/step - loss: 0.3373 - accuracy: 0.8630\n"
          ],
          "name": "stdout"
        },
        {
          "output_type": "execute_result",
          "data": {
            "text/plain": [
              "<tensorflow.python.keras.callbacks.History at 0x7f5c00ff1c88>"
            ]
          },
          "metadata": {
            "tags": []
          },
          "execution_count": 14
        }
      ]
    },
    {
      "cell_type": "code",
      "metadata": {
        "id": "qbP9fwch1YY9",
        "outputId": "8b14a13c-98e6-454a-f79d-41f56e878e71",
        "colab": {
          "base_uri": "https://localhost:8080/"
        }
      },
      "source": [
        "classifier.evaluate(X_test,Y_test,batch_size=16)"
      ],
      "execution_count": 15,
      "outputs": [
        {
          "output_type": "stream",
          "text": [
            "125/125 [==============================] - 0s 912us/step - loss: 0.3384 - accuracy: 0.8640\n"
          ],
          "name": "stdout"
        },
        {
          "output_type": "execute_result",
          "data": {
            "text/plain": [
              "[0.33840855956077576, 0.8640000224113464]"
            ]
          },
          "metadata": {
            "tags": []
          },
          "execution_count": 15
        }
      ]
    },
    {
      "cell_type": "markdown",
      "metadata": {
        "id": "wPETMATw2Vhe"
      },
      "source": [
        "**Prediction**<br>\n",
        "Whether a person having,<br>\n",
        "Geography: France<br>\n",
        "Credit Score: 600<br>\n",
        "Gender: Male<br> \n",
        "Age: 40 years old<br>\n",
        "Tenure: 3 years<br>\n",
        "Balance: \\$60000 <br>\n",
        "Number of Products: 2<br>\n",
        "Does he have a credit card ? Yes<br>\n",
        "Is this customer an Active Member: Yes<br>\n",
        "Estimated Salary: \\$50000<br>\n",
        "\n",
        "Will get the Loan?"
      ]
    },
    {
      "cell_type": "code",
      "metadata": {
        "id": "8MlBxNAS1enj",
        "outputId": "4220c254-114c-49f9-ca32-5c35b86ae68f",
        "colab": {
          "base_uri": "https://localhost:8080/"
        }
      },
      "source": [
        "new_data=np.array([1,0,0,600,1,40,3,6000,2,1,1,50000])\n",
        "new_data"
      ],
      "execution_count": 16,
      "outputs": [
        {
          "output_type": "execute_result",
          "data": {
            "text/plain": [
              "array([    1,     0,     0,   600,     1,    40,     3,  6000,     2,\n",
              "           1,     1, 50000])"
            ]
          },
          "metadata": {
            "tags": []
          },
          "execution_count": 16
        }
      ]
    },
    {
      "cell_type": "code",
      "metadata": {
        "id": "0rxwpQY43zI4"
      },
      "source": [
        "N_data=X_sc.transform(new_data.reshape(1,-1))\n"
      ],
      "execution_count": 17,
      "outputs": []
    },
    {
      "cell_type": "code",
      "metadata": {
        "id": "7zareEbi36eV",
        "outputId": "bd79ee23-9049-4fa6-91d6-4553799ec646",
        "colab": {
          "base_uri": "https://localhost:8080/"
        }
      },
      "source": [
        "prediction=classifier.predict(N_data)\n",
        "prediction=(prediction>0.5)\n",
        "print(prediction)"
      ],
      "execution_count": 18,
      "outputs": [
        {
          "output_type": "stream",
          "text": [
            "[[False]]\n"
          ],
          "name": "stdout"
        }
      ]
    },
    {
      "cell_type": "code",
      "metadata": {
        "id": "FDV6kBUc47Io"
      },
      "source": [
        ""
      ],
      "execution_count": 18,
      "outputs": []
    }
  ]
}