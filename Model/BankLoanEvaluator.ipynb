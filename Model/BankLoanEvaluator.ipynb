{
  "nbformat": 4,
  "nbformat_minor": 0,
  "metadata": {
    "colab": {
      "name": "BankLoanEvaluator.ipynb",
      "provenance": [],
      "collapsed_sections": [],
      "authorship_tag": "ABX9TyP8GSV6D7Tkk6T8Op+tJ1lC",
      "include_colab_link": true
    },
    "kernelspec": {
      "name": "python3",
      "display_name": "Python 3"
    }
  },
  "cells": [
    {
      "cell_type": "markdown",
      "metadata": {
        "id": "view-in-github",
        "colab_type": "text"
      },
      "source": [
        "<a href=\"https://colab.research.google.com/github/tharakats/BankLoanEvaluator/blob/main/Model/BankLoanEvaluator.ipynb\" target=\"_parent\"><img src=\"https://colab.research.google.com/assets/colab-badge.svg\" alt=\"Open In Colab\"/></a>"
      ]
    },
    {
      "cell_type": "code",
      "metadata": {
        "id": "sFvZ9iHjxffn"
      },
      "source": [
        ""
      ],
      "execution_count": null,
      "outputs": []
    },
    {
      "cell_type": "code",
      "metadata": {
        "id": "lqbNaMx31Fop"
      },
      "source": [
        "import numpy as np\n",
        "import pandas as pd"
      ],
      "execution_count": 1,
      "outputs": []
    },
    {
      "cell_type": "code",
      "metadata": {
        "id": "BnT0XWfG1GIS"
      },
      "source": [
        "dataset = pd.read_csv('https://docs.google.com/spreadsheets/d/e/2PACX-1vT3dBWyWxVw2rMsVnNaG36DWb33ecoq1Jd9i99ogk7S9mKDirDdg359NvLBmi5IlqLU9XFH4GLx6n_d/pub?gid=1809176138&single=true&output=csv')"
      ],
      "execution_count": 2,
      "outputs": []
    },
    {
      "cell_type": "code",
      "metadata": {
        "id": "TSTqB5jF1MTB"
      },
      "source": [
        "X=dataset.iloc[:,3:-1].values\n",
        "Y=dataset.iloc[:,-1].values"
      ],
      "execution_count": 3,
      "outputs": []
    },
    {
      "cell_type": "code",
      "metadata": {
        "id": "lU7XTpmc1NwY"
      },
      "source": [
        "from sklearn.impute import SimpleImputer"
      ],
      "execution_count": 4,
      "outputs": []
    },
    {
      "cell_type": "code",
      "metadata": {
        "id": "aaoB66FY6-nS"
      },
      "source": [
        "imputer=SimpleImputer(missing_values=np.nan,strategy='mean')\n",
        "X[:,4:12]=imputer.fit_transform(X[:,4:12])"
      ],
      "execution_count": 5,
      "outputs": []
    },
    {
      "cell_type": "code",
      "metadata": {
        "id": "IrAA-RXZ7ATl"
      },
      "source": [
        "from sklearn.model_selection import train_test_split"
      ],
      "execution_count": 6,
      "outputs": []
    },
    {
      "cell_type": "code",
      "metadata": {
        "id": "JjcWY_fP7XqB"
      },
      "source": [
        "X_train,X_test,Y_train,Y_test=train_test_split(X,Y,test_size=0.2,random_state=1)"
      ],
      "execution_count": 30,
      "outputs": []
    },
    {
      "cell_type": "code",
      "metadata": {
        "id": "wpwnseKw7cJd"
      },
      "source": [
        "from sklearn.preprocessing import LabelEncoder, OneHotEncoder,StandardScaler"
      ],
      "execution_count": 8,
      "outputs": []
    },
    {
      "cell_type": "code",
      "metadata": {
        "id": "8wbDBdE78tS0"
      },
      "source": [
        "gender=LabelEncoder()"
      ],
      "execution_count": 31,
      "outputs": []
    },
    {
      "cell_type": "code",
      "metadata": {
        "id": "1EifxJda7fGp"
      },
      "source": [
        "gender_x=gender.fit(X_train[:,2])\n",
        "\n",
        "X_train[:,2]=gender_x.transform(X_train[:,2])\n",
        "X_test[:,2]=gender_x.transform(X_test[:,2])"
      ],
      "execution_count": 32,
      "outputs": []
    },
    {
      "cell_type": "code",
      "metadata": {
        "id": "PL3E5len9jUy",
        "outputId": "fc2795fa-fba7-47f5-9cac-7560cdc8cb1d",
        "colab": {
          "base_uri": "https://localhost:8080/"
        }
      },
      "source": [
        "X_train"
      ],
      "execution_count": 22,
      "outputs": [
        {
          "output_type": "execute_result",
          "data": {
            "text/plain": [
              "array([[628, 'Germany', 1, ..., 0.0, 1.0, 124749.08],\n",
              "       [626, 'France', 0, ..., 0.0, 0.0, 41104.82],\n",
              "       [612, 'Germany', 0, ..., 1.0, 1.0, 45750.21],\n",
              "       ...,\n",
              "       [672, 'France', 0, ..., 1.0, 1.0, 92027.69],\n",
              "       [663, 'France', 0, ..., 1.0, 1.0, 101168.9],\n",
              "       [763, 'Germany', 1, ..., 1.0, 0.0, 33462.94]], dtype=object)"
            ]
          },
          "metadata": {
            "tags": []
          },
          "execution_count": 22
        }
      ]
    },
    {
      "cell_type": "code",
      "metadata": {
        "id": "Nq_hVXNA9n_t",
        "outputId": "098969c1-0c03-494d-8ea5-e8adb93918ea",
        "colab": {
          "base_uri": "https://localhost:8080/"
        }
      },
      "source": [
        "X_test"
      ],
      "execution_count": 33,
      "outputs": [
        {
          "output_type": "execute_result",
          "data": {
            "text/plain": [
              "array([[550, 'France', 1, ..., 1.0, 1.0, 97057.28],\n",
              "       [680, 'France', 1, ..., 1.0, 0.0, 66526.01],\n",
              "       [531, 'France', 0, ..., 0.0, 1.0, 90537.47],\n",
              "       ...,\n",
              "       [567, 'Spain', 1, ..., 0.0, 1.0, 161571.79],\n",
              "       [621, 'Germany', 0, ..., 1.0, 1.0, 165257.31],\n",
              "       [655, 'Germany', 1, ..., 1.0, 1.0, 49025.79]], dtype=object)"
            ]
          },
          "metadata": {
            "tags": []
          },
          "execution_count": 33
        }
      ]
    },
    {
      "cell_type": "code",
      "metadata": {
        "id": "zPJ3KLeP7r8F"
      },
      "source": [
        "country=LabelEncoder()"
      ],
      "execution_count": 24,
      "outputs": []
    },
    {
      "cell_type": "code",
      "metadata": {
        "id": "spoRMNjp7wU3"
      },
      "source": [
        "country_x=country.fit(X_train[:,1])\n",
        "X_train[:,1]=country_x.transform(X_train[:,1])\n",
        "X_test[:,1]=country_x.transform(X_test[:,1])"
      ],
      "execution_count": 34,
      "outputs": []
    },
    {
      "cell_type": "code",
      "metadata": {
        "id": "hL6rqApR9r4h",
        "outputId": "911a0839-bf63-4e7e-8dbe-c875f90e4ee5",
        "colab": {
          "base_uri": "https://localhost:8080/"
        }
      },
      "source": [
        "X_test"
      ],
      "execution_count": 35,
      "outputs": [
        {
          "output_type": "execute_result",
          "data": {
            "text/plain": [
              "array([[550, 0, 1, ..., 1.0, 1.0, 97057.28],\n",
              "       [680, 0, 1, ..., 1.0, 0.0, 66526.01],\n",
              "       [531, 0, 0, ..., 0.0, 1.0, 90537.47],\n",
              "       ...,\n",
              "       [567, 2, 1, ..., 0.0, 1.0, 161571.79],\n",
              "       [621, 1, 0, ..., 1.0, 1.0, 165257.31],\n",
              "       [655, 1, 1, ..., 1.0, 1.0, 49025.79]], dtype=object)"
            ]
          },
          "metadata": {
            "tags": []
          },
          "execution_count": 35
        }
      ]
    },
    {
      "cell_type": "code",
      "metadata": {
        "id": "PnV49Xem92x8"
      },
      "source": [
        ""
      ],
      "execution_count": null,
      "outputs": []
    }
  ]
}