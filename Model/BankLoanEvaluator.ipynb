{
  "nbformat": 4,
  "nbformat_minor": 0,
  "metadata": {
    "colab": {
      "name": "BankLoanEvaluator.ipynb",
      "provenance": [],
      "collapsed_sections": [],
      "authorship_tag": "ABX9TyMobkW9E355FQ95L3aoPGc/",
      "include_colab_link": true
    },
    "kernelspec": {
      "name": "python3",
      "display_name": "Python 3"
    }
  },
  "cells": [
    {
      "cell_type": "markdown",
      "metadata": {
        "id": "view-in-github",
        "colab_type": "text"
      },
      "source": [
        "<a href=\"https://colab.research.google.com/github/tharakats/BankLoanEvaluator/blob/main/Model/BankLoanEvaluator.ipynb\" target=\"_parent\"><img src=\"https://colab.research.google.com/assets/colab-badge.svg\" alt=\"Open In Colab\"/></a>"
      ]
    },
    {
      "cell_type": "code",
      "metadata": {
        "id": "sFvZ9iHjxffn"
      },
      "source": [
        "\"\"\"\n",
        "Copyright 2020 Tharaka Sampath\n",
        "\n",
        "Licensed under the Apache License, Version 2.0 (the \"License\");\n",
        "you may not use this file except in compliance with the License.\n",
        "You may obtain a copy of the License at\n",
        "\n",
        "    http://www.apache.org/licenses/LICENSE-2.0\n",
        "\n",
        "Unless required by applicable law or agreed to in writing, software\n",
        "distributed under the License is distributed on an \"AS IS\" BASIS,\n",
        "WITHOUT WARRANTIES OR CONDITIONS OF ANY KIND, either express or implied.\n",
        "See the License for the specific language governing permissions and\n",
        "limitations under the License.\n",
        "\"\"\""
      ],
      "execution_count": null,
      "outputs": []
    },
    {
      "cell_type": "code",
      "metadata": {
        "id": "lqbNaMx31Fop"
      },
      "source": [
        "import numpy as np\n",
        "import pandas as pd"
      ],
      "execution_count": 3,
      "outputs": []
    },
    {
      "cell_type": "code",
      "metadata": {
        "id": "BnT0XWfG1GIS"
      },
      "source": [
        "dataset = pd.read_csv('https://docs.google.com/spreadsheets/d/e/2PACX-1vT3dBWyWxVw2rMsVnNaG36DWb33ecoq1Jd9i99ogk7S9mKDirDdg359NvLBmi5IlqLU9XFH4GLx6n_d/pub?gid=1809176138&single=true&output=csv')\n",
        "X=dataset.iloc[:,3:-1].values\n",
        "Y=dataset.iloc[:,-1].values"
      ],
      "execution_count": 4,
      "outputs": []
    },
    {
      "cell_type": "code",
      "metadata": {
        "id": "lU7XTpmc1NwY"
      },
      "source": [
        "from sklearn.impute import SimpleImputer\n",
        "imputer=SimpleImputer(missing_values=np.nan,strategy='mean')\n",
        "X[:,4:12]=imputer.fit_transform(X[:,4:12])"
      ],
      "execution_count": 6,
      "outputs": []
    },
    {
      "cell_type": "code",
      "metadata": {
        "id": "IrAA-RXZ7ATl"
      },
      "source": [
        "from sklearn.model_selection import train_test_split\n",
        "X_train,X_test,Y_train,Y_test=train_test_split(X,Y,test_size=0.2,random_state=1)"
      ],
      "execution_count": 8,
      "outputs": []
    },
    {
      "cell_type": "code",
      "metadata": {
        "id": "ymPVi9E5zjw0",
        "outputId": "d4144c73-5f4b-4dc4-ade2-0f3fc68758bf",
        "colab": {
          "base_uri": "https://localhost:8080/"
        }
      },
      "source": [
        "X_train"
      ],
      "execution_count": 29,
      "outputs": [
        {
          "output_type": "execute_result",
          "data": {
            "text/plain": [
              "array([[628, 1, 1, ..., 0.0, 1.0, 124749.08],\n",
              "       [626, 0, 0, ..., 0.0, 0.0, 41104.82],\n",
              "       [612, 1, 0, ..., 1.0, 1.0, 45750.21],\n",
              "       ...,\n",
              "       [672, 0, 0, ..., 1.0, 1.0, 92027.69],\n",
              "       [663, 0, 0, ..., 1.0, 1.0, 101168.9],\n",
              "       [763, 1, 1, ..., 1.0, 0.0, 33462.94]], dtype=object)"
            ]
          },
          "metadata": {
            "tags": []
          },
          "execution_count": 29
        }
      ]
    },
    {
      "cell_type": "code",
      "metadata": {
        "id": "wpwnseKw7cJd"
      },
      "source": [
        "from sklearn.preprocessing import LabelEncoder, OneHotEncoder,StandardScaler\n",
        "gender=LabelEncoder()\n",
        "gender_x=gender.fit(X_train[:,2])\n",
        "\n",
        "X_train[:,2]=gender_x.transform(X_train[:,2])\n",
        "X_test[:,2]=gender_x.transform(X_test[:,2])\n",
        "\n",
        "country=LabelEncoder()\n",
        "country_x=country.fit(X_train[:,1])\n",
        "X_train[:,1]=country_x.transform(X_train[:,1])\n",
        "X_test[:,1]=country_x.transform(X_test[:,1])"
      ],
      "execution_count": 10,
      "outputs": []
    },
    {
      "cell_type": "code",
      "metadata": {
        "id": "8wbDBdE78tS0",
        "outputId": "3c3f4c77-1a84-47ee-928d-5308db128230",
        "colab": {
          "base_uri": "https://localhost:8080/"
        }
      },
      "source": [
        "X_train"
      ],
      "execution_count": 30,
      "outputs": [
        {
          "output_type": "execute_result",
          "data": {
            "text/plain": [
              "array([[628, 1, 1, ..., 0.0, 1.0, 124749.08],\n",
              "       [626, 0, 0, ..., 0.0, 0.0, 41104.82],\n",
              "       [612, 1, 0, ..., 1.0, 1.0, 45750.21],\n",
              "       ...,\n",
              "       [672, 0, 0, ..., 1.0, 1.0, 92027.69],\n",
              "       [663, 0, 0, ..., 1.0, 1.0, 101168.9],\n",
              "       [763, 1, 1, ..., 1.0, 0.0, 33462.94]], dtype=object)"
            ]
          },
          "metadata": {
            "tags": []
          },
          "execution_count": 30
        }
      ]
    },
    {
      "cell_type": "code",
      "metadata": {
        "id": "1EifxJda7fGp"
      },
      "source": [
        "country_onehot=OneHotEncoder()\n",
        "country_onehot_x=country_onehot.fit(X_train[:,1].reshape(-1,1))\n",
        "country_onehot_x_train=country_onehot_x.transform(X_train[:,1].reshape(-1,1)).toarray()\n",
        "country_onehot_x_test=country_onehot_x.transform(X_test[:,1].reshape(-1,1)).toarray()\n",
        "\n",
        "X_train=np.concatenate((country_onehot_x_train,X_train),axis=1)\n",
        "X_train=np.delete(X_train,4,axis=1)\n",
        "X_test=np.concatenate((country_onehot_x_test,X_test),axis=1)\n",
        "X_test=np.delete(X_test,4,axis=1)\n"
      ],
      "execution_count": 35,
      "outputs": []
    },
    {
      "cell_type": "code",
      "metadata": {
        "id": "zCDRHnhpyVl4",
        "outputId": "255dcb92-f25a-433d-f9ea-5843f5f8b64c",
        "colab": {
          "base_uri": "https://localhost:8080/"
        }
      },
      "source": [
        "X_train"
      ],
      "execution_count": 36,
      "outputs": [
        {
          "output_type": "execute_result",
          "data": {
            "text/plain": [
              "array([[0.0, 1.0, 0.0, ..., 0.0, 1.0, 124749.08],\n",
              "       [1.0, 0.0, 0.0, ..., 0.0, 0.0, 41104.82],\n",
              "       [0.0, 1.0, 0.0, ..., 1.0, 1.0, 45750.21],\n",
              "       ...,\n",
              "       [1.0, 0.0, 0.0, ..., 1.0, 1.0, 92027.69],\n",
              "       [1.0, 0.0, 0.0, ..., 1.0, 1.0, 101168.9],\n",
              "       [0.0, 1.0, 0.0, ..., 1.0, 0.0, 33462.94]], dtype=object)"
            ]
          },
          "metadata": {
            "tags": []
          },
          "execution_count": 36
        }
      ]
    },
    {
      "cell_type": "code",
      "metadata": {
        "id": "EbNJQEzV0oHw"
      },
      "source": [
        "X_sc=StandardScaler()\n",
        "X_sc=X_sc.fit(X_train)\n",
        "X_train=X_sc.transform(X_train)\n",
        "X_test=X_sc.transform(X_test)"
      ],
      "execution_count": 37,
      "outputs": []
    },
    {
      "cell_type": "code",
      "metadata": {
        "id": "lFtsgesw1JjQ"
      },
      "source": [
        "import tensorflow as tf\n",
        "import keras\n",
        "from keras.models import Sequential\n",
        "from keras.layers import Dense\n",
        "\n",
        "classifier= keras.models.Sequential()\n",
        "classifier.add(Dense(units=7,activation='relu',input_shape=(12,)))\n",
        "classifier.add(Dense(units=7,activation='relu'))\n",
        "classifier.add(Dense(units=1,activation='sigmoid'))\n",
        "\n",
        "classifier.compile(optimizer='adam',loss='binary_crossentropy',metrics=['accuracy'])"
      ],
      "execution_count": 38,
      "outputs": []
    },
    {
      "cell_type": "code",
      "metadata": {
        "id": "o7PwC3Co1VUf",
        "outputId": "58a8fc11-fe81-41c5-da3d-5932b8b5ff2a",
        "colab": {
          "base_uri": "https://localhost:8080/"
        }
      },
      "source": [
        "classifier.fit(X_train,Y_train,batch_size=64,epochs=50,verbose=1)"
      ],
      "execution_count": 39,
      "outputs": [
        {
          "output_type": "stream",
          "text": [
            "Epoch 1/50\n",
            "125/125 [==============================] - 0s 1ms/step - loss: 0.8130 - accuracy: 0.3573\n",
            "Epoch 2/50\n",
            "125/125 [==============================] - 0s 1ms/step - loss: 0.5908 - accuracy: 0.7140\n",
            "Epoch 3/50\n",
            "125/125 [==============================] - 0s 1ms/step - loss: 0.4996 - accuracy: 0.8085\n",
            "Epoch 4/50\n",
            "125/125 [==============================] - 0s 1ms/step - loss: 0.4586 - accuracy: 0.8166\n",
            "Epoch 5/50\n",
            "125/125 [==============================] - 0s 1ms/step - loss: 0.4346 - accuracy: 0.8235\n",
            "Epoch 6/50\n",
            "125/125 [==============================] - 0s 1ms/step - loss: 0.4161 - accuracy: 0.8324\n",
            "Epoch 7/50\n",
            "125/125 [==============================] - 0s 1ms/step - loss: 0.4003 - accuracy: 0.8388\n",
            "Epoch 8/50\n",
            "125/125 [==============================] - 0s 1ms/step - loss: 0.3875 - accuracy: 0.8431\n",
            "Epoch 9/50\n",
            "125/125 [==============================] - 0s 1ms/step - loss: 0.3775 - accuracy: 0.8457\n",
            "Epoch 10/50\n",
            "125/125 [==============================] - 0s 1ms/step - loss: 0.3703 - accuracy: 0.8476\n",
            "Epoch 11/50\n",
            "125/125 [==============================] - 0s 1ms/step - loss: 0.3644 - accuracy: 0.8496\n",
            "Epoch 12/50\n",
            "125/125 [==============================] - 0s 1ms/step - loss: 0.3604 - accuracy: 0.8508\n",
            "Epoch 13/50\n",
            "125/125 [==============================] - 0s 1ms/step - loss: 0.3573 - accuracy: 0.8505\n",
            "Epoch 14/50\n",
            "125/125 [==============================] - 0s 1ms/step - loss: 0.3551 - accuracy: 0.8512\n",
            "Epoch 15/50\n",
            "125/125 [==============================] - 0s 1ms/step - loss: 0.3535 - accuracy: 0.8519\n",
            "Epoch 16/50\n",
            "125/125 [==============================] - 0s 1ms/step - loss: 0.3519 - accuracy: 0.8520\n",
            "Epoch 17/50\n",
            "125/125 [==============================] - 0s 1ms/step - loss: 0.3506 - accuracy: 0.8541\n",
            "Epoch 18/50\n",
            "125/125 [==============================] - 0s 1ms/step - loss: 0.3496 - accuracy: 0.8546\n",
            "Epoch 19/50\n",
            "125/125 [==============================] - 0s 1ms/step - loss: 0.3485 - accuracy: 0.8569\n",
            "Epoch 20/50\n",
            "125/125 [==============================] - 0s 1ms/step - loss: 0.3478 - accuracy: 0.8553\n",
            "Epoch 21/50\n",
            "125/125 [==============================] - 0s 1ms/step - loss: 0.3470 - accuracy: 0.8561\n",
            "Epoch 22/50\n",
            "125/125 [==============================] - 0s 1ms/step - loss: 0.3460 - accuracy: 0.8561\n",
            "Epoch 23/50\n",
            "125/125 [==============================] - 0s 1ms/step - loss: 0.3453 - accuracy: 0.8577\n",
            "Epoch 24/50\n",
            "125/125 [==============================] - 0s 1ms/step - loss: 0.3446 - accuracy: 0.8581\n",
            "Epoch 25/50\n",
            "125/125 [==============================] - 0s 994us/step - loss: 0.3438 - accuracy: 0.8584\n",
            "Epoch 26/50\n",
            "125/125 [==============================] - 0s 1ms/step - loss: 0.3432 - accuracy: 0.8581\n",
            "Epoch 27/50\n",
            "125/125 [==============================] - 0s 1ms/step - loss: 0.3424 - accuracy: 0.8596\n",
            "Epoch 28/50\n",
            "125/125 [==============================] - 0s 1ms/step - loss: 0.3417 - accuracy: 0.8581\n",
            "Epoch 29/50\n",
            "125/125 [==============================] - 0s 1ms/step - loss: 0.3410 - accuracy: 0.8590\n",
            "Epoch 30/50\n",
            "125/125 [==============================] - 0s 1ms/step - loss: 0.3402 - accuracy: 0.8595\n",
            "Epoch 31/50\n",
            "125/125 [==============================] - 0s 1ms/step - loss: 0.3397 - accuracy: 0.8593\n",
            "Epoch 32/50\n",
            "125/125 [==============================] - 0s 1ms/step - loss: 0.3389 - accuracy: 0.8601\n",
            "Epoch 33/50\n",
            "125/125 [==============================] - 0s 1ms/step - loss: 0.3380 - accuracy: 0.8615\n",
            "Epoch 34/50\n",
            "125/125 [==============================] - 0s 1ms/step - loss: 0.3376 - accuracy: 0.8606\n",
            "Epoch 35/50\n",
            "125/125 [==============================] - 0s 1ms/step - loss: 0.3374 - accuracy: 0.8604\n",
            "Epoch 36/50\n",
            "125/125 [==============================] - 0s 1ms/step - loss: 0.3368 - accuracy: 0.8611\n",
            "Epoch 37/50\n",
            "125/125 [==============================] - 0s 1ms/step - loss: 0.3364 - accuracy: 0.8611\n",
            "Epoch 38/50\n",
            "125/125 [==============================] - 0s 1ms/step - loss: 0.3359 - accuracy: 0.8639\n",
            "Epoch 39/50\n",
            "125/125 [==============================] - 0s 1ms/step - loss: 0.3352 - accuracy: 0.8636\n",
            "Epoch 40/50\n",
            "125/125 [==============================] - 0s 1ms/step - loss: 0.3349 - accuracy: 0.8637\n",
            "Epoch 41/50\n",
            "125/125 [==============================] - 0s 1ms/step - loss: 0.3348 - accuracy: 0.8624\n",
            "Epoch 42/50\n",
            "125/125 [==============================] - 0s 1ms/step - loss: 0.3346 - accuracy: 0.8633\n",
            "Epoch 43/50\n",
            "125/125 [==============================] - 0s 1ms/step - loss: 0.3342 - accuracy: 0.8646\n",
            "Epoch 44/50\n",
            "125/125 [==============================] - 0s 1ms/step - loss: 0.3343 - accuracy: 0.8626\n",
            "Epoch 45/50\n",
            "125/125 [==============================] - 0s 1ms/step - loss: 0.3339 - accuracy: 0.8625\n",
            "Epoch 46/50\n",
            "125/125 [==============================] - 0s 1ms/step - loss: 0.3338 - accuracy: 0.8629\n",
            "Epoch 47/50\n",
            "125/125 [==============================] - 0s 1ms/step - loss: 0.3337 - accuracy: 0.8631\n",
            "Epoch 48/50\n",
            "125/125 [==============================] - 0s 1ms/step - loss: 0.3331 - accuracy: 0.8636\n",
            "Epoch 49/50\n",
            "125/125 [==============================] - 0s 997us/step - loss: 0.3337 - accuracy: 0.8636\n",
            "Epoch 50/50\n",
            "125/125 [==============================] - 0s 1ms/step - loss: 0.3333 - accuracy: 0.8630\n"
          ],
          "name": "stdout"
        },
        {
          "output_type": "execute_result",
          "data": {
            "text/plain": [
              "<tensorflow.python.keras.callbacks.History at 0x7fa73f447e80>"
            ]
          },
          "metadata": {
            "tags": []
          },
          "execution_count": 39
        }
      ]
    },
    {
      "cell_type": "code",
      "metadata": {
        "id": "qbP9fwch1YY9",
        "outputId": "107e6f21-8c3e-4ab4-d563-11e34e84c4a4",
        "colab": {
          "base_uri": "https://localhost:8080/"
        }
      },
      "source": [
        "classifier.evaluate(X_test,Y_test,batch_size=16)"
      ],
      "execution_count": 40,
      "outputs": [
        {
          "output_type": "stream",
          "text": [
            "125/125 [==============================] - 0s 769us/step - loss: 0.3336 - accuracy: 0.8635\n"
          ],
          "name": "stdout"
        },
        {
          "output_type": "execute_result",
          "data": {
            "text/plain": [
              "[0.3335971534252167, 0.8634999990463257]"
            ]
          },
          "metadata": {
            "tags": []
          },
          "execution_count": 40
        }
      ]
    },
    {
      "cell_type": "code",
      "metadata": {
        "id": "8MlBxNAS1enj"
      },
      "source": [
        ""
      ],
      "execution_count": null,
      "outputs": []
    }
  ]
}